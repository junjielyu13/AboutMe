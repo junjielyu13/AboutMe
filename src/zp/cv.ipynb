{
 "cells": [
  {
   "cell_type": "code",
   "execution_count": null,
   "metadata": {},
   "outputs": [],
   "source": [
    "# Currivulum Vitae\n",
    "# Coumputer Engineering: 2020 - In Progress\n",
    "# Design Patterns, Data Structure and Algorithms, Computer Vision. \n",
    "\n",
    "#Objective: To obtain a intern position in the area of ​​software development, where I can apply my knowledge and skills, and at the same time continue to learn and grow professionally.\n",
    "#Skills: Pyhton, Java, C/C++, Rust, TypeScript,React.js, node.js, Git"
   ]
  },
  {
   "cell_type": "code",
   "execution_count": null,
   "metadata": {},
   "outputs": [],
   "source": [
    "# Projects\n",
    "# FoodTip: 2022.02 - 2022.05\n",
    "# Description: A android app that allows you to find the recepies based on the ingredients you have introduced.\n",
    "# Development tool: Android Studio, Java, Firebase, Git\n",
    "\n",
    "# Personal Portfolio: 2021.8 - 2021.9\n",
    "# Description: A personal portfolio that shows my skills and projects.\n",
    "# Development tool: TypeScript, React.js, Next.js, node.js, Git\n",
    "\n",
    "# Algoritmos Visulizacion: 2021.8 - In Progress\n",
    "# Description: A web app that allows you to visualize the algorithms of pathfinding.\n",
    "# Development tool: TypeScript, React.js, node.js, Git, npm\n",
    "\n",
    "# HackForGood: Hackathon Project 2022.11\n",
    "# Description: A app that allows you to indentify what kind of garbage is based on the picture you have taken, second place in the hackathon.\n",
    "# Development tool: TensorFlow, React.js, Git, flask \n",
    "\n",
    "# Multithreaded Web Server: 2022.10\n",
    "# Description: A web server that can handle multiple requests at the same time.\n",
    "# Development tool: Rust"
   ]
  },
  {
   "cell_type": "code",
   "execution_count": null,
   "metadata": {},
   "outputs": [],
   "source": [
    "# 1. Willingness to learn and grow professionally\n",
    "# 2. Good teamworking skillsGood teamworking skills"
   ]
  },
  {
   "cell_type": "code",
   "execution_count": null,
   "metadata": {},
   "outputs": [],
   "source": [
    "# Interests\n",
    "# Backend development, Computer Vision, Data Science"
   ]
  },
  {
   "cell_type": "code",
   "execution_count": null,
   "metadata": {},
   "outputs": [],
   "source": [
    "# Languages\n",
    "# Chinese: Native\n",
    "# Catalan: Advanced\n",
    "# Spanish: Advanced\n",
    "# English: Intermediate"
   ]
  },
  {
   "cell_type": "code",
   "execution_count": null,
   "metadata": {},
   "outputs": [],
   "source": [
    "# Contact\n",
    "# Email: zhipeng139@gmail.com\n",
    "# Phone: +34 631 512 846\n",
    "# Linkedin: https://www.linkedin.com/in/%E5%BF%97%E9%B9%8F-%E6%9E%97-418566205/\n",
    "# github : https://github.com/Zhipeng139"
   ]
  }
 ],
 "metadata": {
  "language_info": {
   "name": "python"
  },
  "orig_nbformat": 4
 },
 "nbformat": 4,
 "nbformat_minor": 2
}
